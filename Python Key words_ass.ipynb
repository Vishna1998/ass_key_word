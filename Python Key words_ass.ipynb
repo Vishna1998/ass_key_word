{
 "cells": [
  {
   "cell_type": "code",
   "execution_count": 3,
   "id": "7a17f77b-9629-45ed-a611-6ad7a7ee4ed8",
   "metadata": {},
   "outputs": [
    {
     "name": "stdout",
     "output_type": "stream",
     "text": [
      "a is small\n"
     ]
    }
   ],
   "source": [
    "# 1. Explain the significance of Python keywords and provide examples of five keywords\n",
    "\n",
    "\"\"\"to allow well define code syntax and readble\"\"\"\n",
    "\n",
    "\n",
    "#example:- if,else,or,T/F\n",
    "\n",
    "a=5\n",
    "b=6\n",
    "\n",
    "if a>b:\n",
    "    print(\"a is big\")\n",
    "else:\n",
    "    print(\"a is small\")\n"
   ]
  },
  {
   "cell_type": "code",
   "execution_count": 4,
   "id": "01a2cd0b-97a3-43e8-b641-fbb07feb66b5",
   "metadata": {},
   "outputs": [],
   "source": [
    "#2.   Descri0e the rules for defining identifiers in Python and provide an exampl\n",
    "\n",
    "\"\"\"Identifiers in Python can contain letters, digits, and underscores but cannot start \n",
    "with a digit or be a reserved keyword. Conventionally, lowercase letters are used for variables, \n",
    "and uppercase for constants. Additionally, identifiers beginning and ending with double underscores\n",
    "have special meanings.\"\"\"\n",
    "\n",
    "my_variable = 42\n",
    "myClass = \"Hello\"\n",
    "CONSTANT_VALUE = 3.14"
   ]
  },
  {
   "cell_type": "code",
   "execution_count": 7,
   "id": "483e873c-a73b-4b33-b6d3-6ef35690b1b1",
   "metadata": {},
   "outputs": [
    {
     "name": "stdout",
     "output_type": "stream",
     "text": [
      "30\n"
     ]
    }
   ],
   "source": [
    "#3. What are comments in Python, and why are they useful6 Provide an example\n",
    "\n",
    "#comments is text anotation indication for understanding what to do in code.\n",
    "#help the logic behind the code.\n",
    "\n",
    "#let,s example\n",
    "\n",
    "# calculates the sum of two number\n",
    "\n",
    "#define two number\n",
    "\n",
    "num1=10  \n",
    "num2=20\n",
    "\n",
    "#calculate the my sum\n",
    "\n",
    "print(num1+num2)\n",
    "                                    "
   ]
  },
  {
   "cell_type": "code",
   "execution_count": 8,
   "id": "2fe19ccd-ef92-4738-9849-a8a32ff356b5",
   "metadata": {},
   "outputs": [
    {
     "ename": "IndentationError",
     "evalue": "expected an indented block after 'if' statement on line 11 (3974208140.py, line 12)",
     "output_type": "error",
     "traceback": [
      "\u001b[1;36m  Cell \u001b[1;32mIn[8], line 12\u001b[1;36m\u001b[0m\n\u001b[1;33m    print(\"a is big\")\u001b[0m\n\u001b[1;37m    ^\u001b[0m\n\u001b[1;31mIndentationError\u001b[0m\u001b[1;31m:\u001b[0m expected an indented block after 'if' statement on line 11\n"
     ]
    }
   ],
   "source": [
    "#4. Why is proper indentation important in Python\n",
    "\n",
    "\"\"\"Proper indentation in Python is vital because it delineates the structure and scope \n",
    "of code blocks. It enhances readability, enforces a consistent coding style, and\n",
    "helps in debugging. Additionally, adherence to indentation guidelines,\n",
    "such as those outlined in PEP 8, ensures consistency across projects.\"\"\"\n",
    "#incorrect indentation\n",
    "a=5\n",
    "b=6\n",
    "\n",
    "if a>b:\n",
    "print(\"a is big\")\n",
    "else:\n",
    "print(\"a is small\")\n",
    "\n",
    "#correct indentation\n",
    "\n",
    "a=5\n",
    "b=6\n",
    "\n",
    "if a>b:\n",
    "    print(\"a is big\")\n",
    "else:\n",
    "    print(\"a is small\")"
   ]
  },
  {
   "cell_type": "code",
   "execution_count": 10,
   "id": "bb1205b7-4cd0-4f67-b644-7f59b3d32680",
   "metadata": {},
   "outputs": [
    {
     "ename": "SyntaxError",
     "evalue": "invalid syntax (2010846396.py, line 3)",
     "output_type": "error",
     "traceback": [
      "\u001b[1;36m  Cell \u001b[1;32mIn[10], line 3\u001b[1;36m\u001b[0m\n\u001b[1;33m    \"\"showing indentation error\u001b[0m\n\u001b[1;37m      ^\u001b[0m\n\u001b[1;31mSyntaxError\u001b[0m\u001b[1;31m:\u001b[0m invalid syntax\n"
     ]
    }
   ],
   "source": [
    "#5 .  What happens if indentation is incorrect in Python\n",
    "\n",
    "\"\"showing indentation error\n",
    "  logical error\n",
    "  Misinterpretation of Code\n",
    "  Scope Issues,\n",
    "   Debugging Challenges\"\" \n",
    "\n"
   ]
  },
  {
   "cell_type": "code",
   "execution_count": null,
   "id": "add45847-5f50-45de-9297-2fe944ed7330",
   "metadata": {},
   "outputs": [],
   "source": [
    "# 6. Differentiate Between expression and statement in Python with examples\n",
    "\n",
    "\n",
    "#Expression:\n",
    "\"\"\"An expression is any piece of code that evaluates to a value. \n",
    "It can be a single value, a variable, or a combination of values, variables, and operators.\n",
    "Expressions can be simple or complex, involving arithmetic operations, function calls, method calls, and more.\"\"\"\n",
    "#2 + 3 (evaluates to 5)\n",
    "#x + y (evaluates to the sum of variables x and y)\n",
    "\n",
    "\n",
    "#statement\n",
    "\"\"\"A statement is a complete line of code that performs an action. \n",
    "It is an instruction that the Python interpreter can execute.\n",
    "Statements can be simple (e.g., assignment statement) or compound\"\"\" \n",
    "#if statement, for loop)."
   ]
  }
 ],
 "metadata": {
  "kernelspec": {
   "display_name": "Python 3 (ipykernel)",
   "language": "python",
   "name": "python3"
  },
  "language_info": {
   "codemirror_mode": {
    "name": "ipython",
    "version": 3
   },
   "file_extension": ".py",
   "mimetype": "text/x-python",
   "name": "python",
   "nbconvert_exporter": "python",
   "pygments_lexer": "ipython3",
   "version": "3.11.5"
  }
 },
 "nbformat": 4,
 "nbformat_minor": 5
}
